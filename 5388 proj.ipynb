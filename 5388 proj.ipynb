{
 "cells": [
  {
   "cell_type": "code",
   "execution_count": 33,
   "metadata": {},
   "outputs": [],
   "source": [
    "import warnings\n",
    "warnings.simplefilter(action='ignore', category=FutureWarning)"
   ]
  },
  {
   "cell_type": "markdown",
   "metadata": {},
   "source": [
    "# import data\n",
    "Import data from csv file."
   ]
  },
  {
   "cell_type": "code",
   "execution_count": 34,
   "metadata": {},
   "outputs": [
    {
     "data": {
      "text/plain": [
       "(125973, 43)"
      ]
     },
     "execution_count": 34,
     "metadata": {},
     "output_type": "execute_result"
    }
   ],
   "source": [
    "import pandas as pd\n",
    "import numpy as np\n",
    "from scipy.io import arff\n",
    "from sklearn import preprocessing\n",
    "from sklearn.model_selection import train_test_split\n",
    "\n",
    "# import data from arff file\n",
    "df_train = pd.read_csv('KDDTrain+.txt',delimiter=',', header=None)\n",
    "df_test = pd.read_csv('KDDTest+.txt',delimiter=',', header=None)\n",
    "\n",
    "df_train.columns = ['duration'\n",
    ",'protocol_type'\n",
    ",'service'\n",
    ",'flag'\n",
    ",'src_bytes'\n",
    ",'dst_bytes'\n",
    ",'land'\n",
    ",'wrong_fragment'\n",
    ",'urgent'\n",
    ",'hot'\n",
    ",'num_failed_logins'\n",
    ",'logged_in'\n",
    ",'num_compromised'\n",
    ",'root_shell'\n",
    ",'su_attempted'\n",
    ",'num_root'\n",
    ",'num_file_creations'\n",
    ",'num_shells'\n",
    ",'num_access_files'\n",
    ",'num_outbound_cmds'\n",
    ",'is_host_login'\n",
    ",'is_guest_login'\n",
    ",'count'\n",
    ",'srv_count'\n",
    ",'serror_rate'\n",
    ",'srv_serror_rate'\n",
    ",'rerror_rate'\n",
    ",'srv_rerror_rate'\n",
    ",'same_srv_rate'\n",
    ",'diff_srv_rate'\n",
    ",'srv_diff_host_rate'\n",
    ",'dst_host_count'\n",
    ",'dst_host_srv_count'\n",
    ",'dst_host_same_srv_rate'\n",
    ",'dst_host_diff_srv_rate'\n",
    ",'dst_host_same_src_port_rate'\n",
    ",'dst_host_srv_diff_host_rate'\n",
    ",'dst_host_serror_rate'\n",
    ",'dst_host_srv_serror_rate'\n",
    ",'dst_host_rerror_rate'\n",
    ",'dst_host_srv_rerror_rate'\n",
    ",'attack'\n",
    ",'difficulty']\n",
    "\n",
    "df_test.columns = df_train.columns\n",
    "# convert class label\n",
    "df_train.shape"
   ]
  },
  {
   "cell_type": "markdown",
   "metadata": {},
   "source": [
    "Class label aggregation"
   ]
  },
  {
   "cell_type": "code",
   "execution_count": 35,
   "metadata": {},
   "outputs": [
    {
     "name": "stdout",
     "output_type": "stream",
     "text": [
      "['normal' 'DoS' 'R2L' 'Probe' 'U2R']\n"
     ]
    }
   ],
   "source": [
    "class_DoS = ['apache2', 'back', 'land', 'neptune', 'mailbomb', 'pod', \n",
    "             'processtable', 'smurf', 'teardrop', 'udpstorm']\n",
    "class_Probe = ['ipsweep', 'mscan', 'nmap', 'portsweep', 'saint', 'satan']\n",
    "\n",
    "class_U2R = ['buffer_overflow', 'loadmodule', 'perl', 'ps', 'rootkit', 'sqlattack', 'httptunnel', 'xterm']\n",
    "\n",
    "class_R2L = ['ftp_write', 'guess_passwd', 'imap', 'multihop', 'named', \n",
    "             'phf', 'sendmail', 'snmpgetattack', 'spy', 'snmpguess', 'warezclient', \n",
    "             'warezmaster', 'xlock', 'xsnoop', 'worm']\n",
    "\n",
    "df_train['class'] = df_train['attack']\n",
    "df_train['class'].replace(class_DoS, value='DoS', inplace=True)\n",
    "df_train['class'].replace(class_Probe, value='Probe',inplace=True)\n",
    "df_train['class'].replace(class_U2R, value='U2R',inplace=True)\n",
    "df_train['class'].replace(class_R2L, value='R2L', inplace=True)\n",
    "print(df_train['class'].unique())"
   ]
  },
  {
   "cell_type": "code",
   "execution_count": 36,
   "metadata": {},
   "outputs": [
    {
     "name": "stdout",
     "output_type": "stream",
     "text": [
      "normal    67343\n",
      "DoS       45927\n",
      "Probe     11656\n",
      "R2L         995\n",
      "U2R          52\n",
      "Name: class, dtype: int64\n"
     ]
    }
   ],
   "source": [
    "print(df_train['class'].value_counts())"
   ]
  },
  {
   "cell_type": "code",
   "execution_count": 37,
   "metadata": {},
   "outputs": [
    {
     "name": "stdout",
     "output_type": "stream",
     "text": [
      "['DoS' 'normal' 'Probe' 'R2L' 'U2R']\n"
     ]
    }
   ],
   "source": [
    "df_test['class'] = df_test['attack']\n",
    "df_test['class'].replace(class_DoS, value='DoS', inplace=True)\n",
    "df_test['class'].replace(class_Probe, value='Probe',inplace=True)\n",
    "df_test['class'].replace(class_U2R, value='U2R',inplace=True)\n",
    "df_test['class'].replace(class_R2L, value='R2L', inplace=True)\n",
    "print(df_test['class'].unique())"
   ]
  },
  {
   "cell_type": "markdown",
   "metadata": {},
   "source": [
    "Convert nominal labels to numeric"
   ]
  },
  {
   "cell_type": "code",
   "execution_count": 38,
   "metadata": {},
   "outputs": [
    {
     "name": "stdout",
     "output_type": "stream",
     "text": [
      "0    67343\n",
      "1    45927\n",
      "2    11656\n",
      "4      995\n",
      "3       52\n",
      "Name: class, dtype: int64\n"
     ]
    }
   ],
   "source": [
    "labels={\"normal\": 0, \"DoS\": 1, \"Probe\": 2, \"U2R\": 3, \"R2L\":4}\n",
    "df_train['class'] = df_train['class'].replace(labels)\n",
    "df_test['class'] = df_test['class'].replace(labels)\n",
    "print(df_train['class'].value_counts())"
   ]
  },
  {
   "cell_type": "markdown",
   "metadata": {},
   "source": [
    "Drop attack types and difficulty features"
   ]
  },
  {
   "cell_type": "code",
   "execution_count": 39,
   "metadata": {},
   "outputs": [],
   "source": [
    "df_train = df_train.drop(['attack', 'difficulty'], axis=1)"
   ]
  },
  {
   "cell_type": "code",
   "execution_count": 40,
   "metadata": {},
   "outputs": [
    {
     "name": "stdout",
     "output_type": "stream",
     "text": [
      "Training set:\n",
      "Feature 'protocol_type' has 3 categories\n",
      "Feature 'service' has 70 categories\n",
      "Feature 'flag' has 11 categories\n"
     ]
    }
   ],
   "source": [
    "print('Training set:')\n",
    "for col_name in df_train.columns:\n",
    "    if df_train[col_name].dtypes == 'object' :\n",
    "        unique_cat = len(df_train[col_name].unique())\n",
    "        print(\"Feature '{col_name}' has {unique_cat} categories\".format(col_name=col_name, unique_cat=unique_cat))"
   ]
  },
  {
   "cell_type": "markdown",
   "metadata": {},
   "source": [
    "split dataset into features and labels"
   ]
  },
  {
   "cell_type": "code",
   "execution_count": 41,
   "metadata": {},
   "outputs": [],
   "source": [
    "\n",
    "x_train = df_train.iloc[:, :-1]\n",
    "y_train = df_train.iloc[:, [-1]]\n",
    "x_test = df_train.iloc[:, :-1]\n",
    "y_test = df_train.iloc[:, [-1]]"
   ]
  },
  {
   "cell_type": "markdown",
   "metadata": {},
   "source": [
    "one hot encoder"
   ]
  },
  {
   "cell_type": "code",
   "execution_count": 42,
   "metadata": {},
   "outputs": [],
   "source": [
    "\n",
    "one_hot = pd.get_dummies(x_train['protocol_type'], prefix='protocol')\n",
    "x_train = x_train.drop('protocol_type',axis = 1)\n",
    "x_train = x_train.join(one_hot)\n",
    "\n",
    "one_hot = pd.get_dummies(x_train['service'], prefix='service')\n",
    "x_train = x_train.drop('service',axis = 1)\n",
    "x_train = x_train.join(one_hot)\n",
    "\n",
    "one_hot = pd.get_dummies(x_train['flag'], prefix='flag')\n",
    "x_train = x_train.drop('flag',axis = 1)\n",
    "x_train = x_train.join(one_hot)\n",
    "\n",
    "one_hot = pd.get_dummies(x_test['protocol_type'], prefix='protocol')\n",
    "x_test = x_test.drop('protocol_type',axis = 1)\n",
    "x_test = x_test.join(one_hot)\n",
    "\n",
    "one_hot = pd.get_dummies(x_test['service'], prefix='service')\n",
    "x_test = x_test.drop('service',axis = 1)\n",
    "x_test = x_test.join(one_hot)\n",
    "\n",
    "one_hot = pd.get_dummies(x_test['flag'], prefix='flag')\n",
    "x_test = x_test.drop('flag',axis = 1)\n",
    "x_test = x_test.join(one_hot)"
   ]
  },
  {
   "cell_type": "markdown",
   "metadata": {},
   "source": [
    "Use Isolation Forest to remove outliers"
   ]
  },
  {
   "cell_type": "code",
   "execution_count": 43,
   "metadata": {},
   "outputs": [],
   "source": [
    "from sklearn.ensemble import IsolationForest\n",
    "# identify outliers in the training dataset\n",
    "iso = IsolationForest(contamination=0.1)\n",
    "yhat = iso.fit_predict(x_train.values)\n",
    "\n",
    "# select all rows that are not outliers\n",
    "mask = yhat != -1\n",
    "x_train, y_train = x_train[mask], y_train[mask]"
   ]
  },
  {
   "cell_type": "code",
   "execution_count": 44,
   "metadata": {},
   "outputs": [
    {
     "data": {
      "text/plain": [
       "(113376, 122)"
      ]
     },
     "execution_count": 44,
     "metadata": {},
     "output_type": "execute_result"
    }
   ],
   "source": [
    "x_train.shape"
   ]
  },
  {
   "cell_type": "markdown",
   "metadata": {},
   "source": [
    "Normalize numeric data by MinMaxScaler"
   ]
  },
  {
   "cell_type": "code",
   "execution_count": 45,
   "metadata": {},
   "outputs": [],
   "source": [
    "x_train = pd.DataFrame(preprocessing.minmax_scale(x_train), index=x_train.index, columns=x_train.columns)\n",
    "x_test = pd.DataFrame(preprocessing.minmax_scale(x_test), index=x_test.index, columns=x_test.columns)"
   ]
  },
  {
   "cell_type": "markdown",
   "metadata": {},
   "source": [
    "# feature selection and resampling"
   ]
  },
  {
   "cell_type": "markdown",
   "metadata": {},
   "source": [
    "Feature selection by Extra Trees classifier"
   ]
  },
  {
   "cell_type": "code",
   "execution_count": 46,
   "metadata": {},
   "outputs": [
    {
     "data": {
      "text/plain": [
       "(113376, 29)"
      ]
     },
     "execution_count": 46,
     "metadata": {},
     "output_type": "execute_result"
    }
   ],
   "source": [
    "from sklearn.ensemble import ExtraTreesClassifier\n",
    "from sklearn.feature_selection import SelectFromModel\n",
    "clf = ExtraTreesClassifier(n_estimators=50)\n",
    "model = SelectFromModel(clf, prefit=True)\n",
    "clf.fit(x_train,np.ravel(y_train))\n",
    "x_train = x_train[x_train.columns[model.get_support(indices=True)]]\n",
    "x_train.shape"
   ]
  },
  {
   "cell_type": "code",
   "execution_count": 47,
   "metadata": {},
   "outputs": [],
   "source": [
    "x_test = x_test[x_test.columns.intersection(x_train.columns)]"
   ]
  },
  {
   "cell_type": "markdown",
   "metadata": {},
   "source": [
    "SMOTE oversampling"
   ]
  },
  {
   "cell_type": "code",
   "execution_count": 48,
   "metadata": {},
   "outputs": [
    {
     "name": "stdout",
     "output_type": "stream",
     "text": [
      "The number of oversampled data: 319390\n",
      "The number of each class in oversampled data: 319390\n"
     ]
    }
   ],
   "source": [
    "from imblearn.over_sampling import SMOTE\n",
    "smote = SMOTE(random_state=42)\n",
    "x_smote, y_smote = smote.fit_resample(x_train, np.ravel(y_train))\n",
    "x_smote = pd.DataFrame(x_smote, columns=x_train.columns)\n",
    "print(\"The number of oversampled data:\", len(y_smote))\n",
    "print(\"The number of each class in oversampled data:\", len(y_smote == 0))"
   ]
  },
  {
   "cell_type": "markdown",
   "metadata": {},
   "source": [
    "SMOTE+Gaussian(reproduce)"
   ]
  },
  {
   "cell_type": "code",
   "execution_count": 49,
   "metadata": {},
   "outputs": [
    {
     "name": "stdout",
     "output_type": "stream",
     "text": [
      "[(0, 63878), (1, 43638), (2, 25195), (3, 25195), (4, 25195)]\n"
     ]
    }
   ],
   "source": [
    "from collections import Counter\n",
    "a = 25195\n",
    "from imblearn.over_sampling import SMOTE\n",
    "smo = SMOTE(sampling_strategy={2:a,3:a,4:a},random_state=42)\n",
    "X_smo, y_smo = smo.fit_resample(x_train, np.ravel(y_train))   \n",
    "print(sorted(Counter(y_smo).items()))\n",
    "\n",
    "##\n",
    "list0 = []  \n",
    "list1 = []  \n",
    "list2 = []\n",
    "listy = [] \n",
    "X_smo=np.array(X_smo)\n",
    "for i in range(X_smo.shape[0]):\n",
    "  if y_smo[i]==0:\n",
    "    list0.append(X_smo[i])\n",
    "  elif y_smo[i]==1:\n",
    "    list1.append(X_smo[i])\n",
    "  else:\n",
    "    list2.append(X_smo[i])\n",
    "    listy.append(y_smo[i])\n",
    "    \n",
    "data0 = np.array(list0)  \n",
    "data1 = np.array(list1)\n",
    "data2 = np.array(list2)\n",
    "label = np.array(listy)\n",
    "label11 = label.reshape(label.shape[0],) \n",
    "\n",
    "#Gaussian\n",
    "from sklearn.mixture import BayesianGaussianMixture\n",
    "estimator0 = BayesianGaussianMixture(n_components=5)\n",
    "estimator0.fit(data0) \n",
    "estimator1 = BayesianGaussianMixture(n_components=5)\n",
    "estimator1.fit(data1) \n",
    "\n",
    "label_pred0 = estimator0.predict(data0) \n",
    "label_pred1 = estimator1.predict(data1) \n"
   ]
  },
  {
   "cell_type": "code",
   "execution_count": 50,
   "metadata": {},
   "outputs": [
    {
     "data": {
      "text/plain": [
       "[(0, 8889), (1, 31723), (2, 10775), (3, 10149), (4, 2342)]"
      ]
     },
     "execution_count": 50,
     "metadata": {},
     "output_type": "execute_result"
    }
   ],
   "source": [
    "sorted(Counter(label_pred0).items())"
   ]
  },
  {
   "cell_type": "code",
   "execution_count": 51,
   "metadata": {},
   "outputs": [],
   "source": [
    "c0 = []\n",
    "c1 = []\n",
    "c2 = []\n",
    "c3 = []\n",
    "c4 = []\n",
    "s0=s1=s2=s3=s4=0\n",
    "\n",
    "for i in range(data0.shape[0]):\n",
    "    if label_pred0[i] == 0:\n",
    "        c0.append(data0[i])\n",
    "        s0=s0+1\n",
    "    elif label_pred0[i] == 1:\n",
    "        c1.append(data0[i])\n",
    "        s1=s1+1\n",
    "    elif label_pred0[i] == 2:\n",
    "        c2.append(data0[i])\n",
    "        s2=s2+1\n",
    "    elif label_pred0[i] == 3:\n",
    "        c3.append(data0[i])\n",
    "        s3=s3+1\n",
    "    elif label_pred0[i] == 4:\n",
    "        c4.append(data0[i])\n",
    "        s4=s4+1\n",
    "\n",
    "a=5039\n",
    "del c0[a:len(c0)]\n",
    "del c3[a:len(c3)]\n",
    "del c4[a:len(c4)]\n",
    "del c1[a:len(c1)]\n",
    "del c2[a:len(c2)]\n",
    "q = np.concatenate((np.array(c0),np.array(c1),np.array(c2),np.array(c3),np.array(c4)),axis=0)\n",
    "label_zc = np.zeros((q.shape[0],), dtype=int)\n",
    "\n",
    "data_end = np.concatenate((q,data2),axis=0)\n",
    "label_end = np.concatenate((label_zc,label11),axis=0)"
   ]
  },
  {
   "cell_type": "code",
   "execution_count": 52,
   "metadata": {},
   "outputs": [
    {
     "data": {
      "text/plain": [
       "[(0, 21540), (1, 6135), (2, 2318), (3, 12750), (4, 895)]"
      ]
     },
     "execution_count": 52,
     "metadata": {},
     "output_type": "execute_result"
    }
   ],
   "source": [
    "sorted(Counter(label_pred1).items())"
   ]
  },
  {
   "cell_type": "code",
   "execution_count": 53,
   "metadata": {},
   "outputs": [
    {
     "data": {
      "text/plain": [
       "[(0, 22498), (1, 24810), (2, 25195), (3, 25195), (4, 25195)]"
      ]
     },
     "execution_count": 53,
     "metadata": {},
     "output_type": "execute_result"
    }
   ],
   "source": [
    "c0 = []\n",
    "c1 = []\n",
    "c2 = []\n",
    "c3 = []\n",
    "c4 = []\n",
    "s0=s1=s2=s3=s4=0\n",
    "\n",
    "for i in range(data1.shape[0]):\n",
    "    if label_pred1[i] == 0:\n",
    "        c0.append(data1[i])\n",
    "        s0=s0+1\n",
    "    elif label_pred1[i] == 1:\n",
    "        c1.append(data1[i])\n",
    "        s1=s1+1\n",
    "    elif label_pred1[i] == 2:\n",
    "        c2.append(data1[i])\n",
    "        s2=s2+1\n",
    "    elif label_pred1[i] == 3:\n",
    "        c3.append(data1[i])\n",
    "        s3=s3+1\n",
    "    elif label_pred1[i] == 4:\n",
    "        c4.append(data1[i])\n",
    "        s4=s4+1\n",
    "\n",
    "a=7731\n",
    "del c0[a:len(c0)]\n",
    "del c3[a:len(c3)]\n",
    "del c4[a:len(c4)]\n",
    "del c1[a:len(c1)]\n",
    "del c2[a:len(c2)]\n",
    "q1 = np.concatenate((np.array(c0),np.array(c1),np.array(c2),np.array(c3),np.array(c4)),axis=0)\n",
    "label_zc = np.ones((q1.shape[0],), dtype=int)\n",
    "\n",
    "data_end = np.concatenate((q1,data_end),axis=0)\n",
    "label_end = np.concatenate((label_zc,label_end),axis=0)\n",
    "sorted(Counter(label_end).items())"
   ]
  },
  {
   "cell_type": "markdown",
   "metadata": {},
   "source": [
    "# results"
   ]
  },
  {
   "cell_type": "markdown",
   "metadata": {},
   "source": [
    "Extra Trees"
   ]
  },
  {
   "cell_type": "code",
   "execution_count": 66,
   "metadata": {},
   "outputs": [
    {
     "data": {
      "image/png": "[encoded data removed]",
      "text/plain": [
       "<Figure size 432x288 with 2 Axes>"
      ]
     },
     "metadata": {
      "needs_background": "light"
     },
     "output_type": "display_data"
    },
    {
     "name": "stdout",
     "output_type": "stream",
     "text": [
      "\n"
     ]
    }
   ],
   "source": [
    "from sklearn.metrics import ConfusionMatrixDisplay, f1_score, accuracy_score, precision_score, recall_score\n",
    "import matplotlib.pyplot as plt\n",
    "from sklearn.ensemble import ExtraTreesClassifier\n",
    "clf_et = ExtraTreesClassifier()\n",
    "clf_et.fit(x_smote, np.ravel(y_smote))\n",
    "ConfusionMatrixDisplay.from_estimator(clf_et, x_test, y_test, values_format='g', cmap=plt.cm.Blues, display_labels=['Normal','DoS','Probe','U2R','R2L'])\n",
    "plt.title(\"Extra Trees Confusion Matrix\")\n",
    "plt.show() \n",
    "print()"
   ]
  },
  {
   "cell_type": "code",
   "execution_count": 67,
   "metadata": {},
   "outputs": [
    {
     "name": "stdout",
     "output_type": "stream",
     "text": [
      "Accuracy: 0.9630714518190406\n",
      "Precision: 0.7351623431868386\n",
      "Recall: 0.8266551619944849\n",
      "F1: 0.7543799469435677\n"
     ]
    }
   ],
   "source": [
    "y_pred = clf_et.predict(x_test)\n",
    "print(\"Accuracy:\", accuracy_score(y_test, y_pred))\n",
    "print(\"Precision:\", precision_score(y_test, y_pred, average=\"macro\"))\n",
    "print(\"Recall:\", recall_score(y_test, y_pred, average=\"macro\"))\n",
    "print(\"F1:\", f1_score(y_test, y_pred, average=\"macro\"))"
   ]
  },
  {
   "cell_type": "markdown",
   "metadata": {},
   "source": [
    "KNN"
   ]
  },
  {
   "cell_type": "code",
   "execution_count": 56,
   "metadata": {},
   "outputs": [
    {
     "data": {
      "image/png": "[encoded data removed]",
      "text/plain": [
       "<Figure size 432x288 with 2 Axes>"
      ]
     },
     "metadata": {
      "needs_background": "light"
     },
     "output_type": "display_data"
    },
    {
     "name": "stdout",
     "output_type": "stream",
     "text": [
      "\n"
     ]
    }
   ],
   "source": [
    "from sklearn.neighbors import KNeighborsClassifier\n",
    "clf_knn = KNeighborsClassifier(n_neighbors=2)\n",
    "clf_knn.fit(x_smote, np.ravel(y_smote))\n",
    "ConfusionMatrixDisplay.from_estimator(clf_knn, x_test, y_test, values_format='g', cmap=plt.cm.Blues, display_labels=['Normal','DoS','Probe','U2R','R2L'])\n",
    "plt.title(\"KNN Confusion Matrix\")\n",
    "plt.show() \n",
    "print()"
   ]
  },
  {
   "cell_type": "code",
   "execution_count": 57,
   "metadata": {},
   "outputs": [
    {
     "name": "stdout",
     "output_type": "stream",
     "text": [
      "Accuracy: 0.9915934366888143\n",
      "Precision: 0.8500679310799949\n",
      "Recall: 0.8561898910154457\n",
      "F1: 0.848853965497633\n"
     ]
    }
   ],
   "source": [
    "y_pred = clf_knn.predict(x_test)\n",
    "print(\"Accuracy:\", accuracy_score(y_test, y_pred))\n",
    "print(\"Precision:\", precision_score(y_test, y_pred, average=\"macro\"))\n",
    "print(\"Recall:\", recall_score(y_test, y_pred, average=\"macro\"))\n",
    "print(\"F1:\", f1_score(y_test, y_pred, average=\"macro\"))"
   ]
  },
  {
   "cell_type": "markdown",
   "metadata": {},
   "source": [
    "Random Forest"
   ]
  },
  {
   "cell_type": "code",
   "execution_count": 58,
   "metadata": {},
   "outputs": [
    {
     "data": {
      "image/png": "[encoded data removed]",
      "text/plain": [
       "<Figure size 432x288 with 2 Axes>"
      ]
     },
     "metadata": {
      "needs_background": "light"
     },
     "output_type": "display_data"
    },
    {
     "name": "stdout",
     "output_type": "stream",
     "text": [
      "\n"
     ]
    }
   ],
   "source": [
    "from sklearn.ensemble import RandomForestClassifier\n",
    "clf_rf = RandomForestClassifier(max_depth=35)\n",
    "clf_rf.fit(x_smote, np.ravel(y_smote))\n",
    "ConfusionMatrixDisplay.from_estimator(clf_rf, x_test, y_test, values_format='g', cmap=plt.cm.Blues, display_labels=['Normal','DoS','Probe','U2R','R2L'])\n",
    "plt.title(\"Random Forest Confusion Matrix\")\n",
    "plt.show() \n",
    "print()"
   ]
  },
  {
   "cell_type": "code",
   "execution_count": 59,
   "metadata": {},
   "outputs": [
    {
     "name": "stdout",
     "output_type": "stream",
     "text": [
      "Accuracy: 0.9560699514975431\n",
      "Precision: 0.6965660668947603\n",
      "Recall: 0.7457016082141432\n",
      "F1: 0.6900537283344843\n"
     ]
    }
   ],
   "source": [
    "y_pred = clf_rf.predict(x_test)\n",
    "print(\"Accuracy:\", accuracy_score(y_test, y_pred))\n",
    "print(\"Precision:\", precision_score(y_test, y_pred, average=\"macro\"))\n",
    "print(\"Recall:\", recall_score(y_test, y_pred, average=\"macro\"))\n",
    "print(\"F1:\", f1_score(y_test, y_pred, average=\"macro\"))"
   ]
  },
  {
   "cell_type": "markdown",
   "metadata": {},
   "source": [
    "SVM"
   ]
  },
  {
   "cell_type": "code",
   "execution_count": 72,
   "metadata": {},
   "outputs": [
    {
     "data": {
      "image/png": "[encoded data removed]",
      "text/plain": [
       "<Figure size 432x288 with 2 Axes>"
      ]
     },
     "metadata": {
      "needs_background": "light"
     },
     "output_type": "display_data"
    },
    {
     "name": "stdout",
     "output_type": "stream",
     "text": [
      "\n"
     ]
    }
   ],
   "source": [
    "from sklearn.svm import SVC\n",
    "clf_svm=SVC()\n",
    "clf_svm.fit(x_smote, np.ravel(y_smote))\n",
    "ConfusionMatrixDisplay.from_estimator(clf_svm, x_test, y_test, values_format='g', cmap=plt.cm.Blues, display_labels=['Normal','DoS','Probe','U2R','R2L'])\n",
    "plt.title(\"SVM Confusion Matrix\")\n",
    "plt.show() \n",
    "print()"
   ]
  },
  {
   "cell_type": "code",
   "execution_count": 73,
   "metadata": {},
   "outputs": [
    {
     "name": "stdout",
     "output_type": "stream",
     "text": [
      "Accuracy: 0.9501242329705571\n",
      "Precision: 0.6304514873566208\n",
      "Recall: 0.8744234246009839\n",
      "F1: 0.6644358418043337\n"
     ]
    }
   ],
   "source": [
    "y_pred = clf_svm.predict(x_test)\n",
    "print(\"Accuracy:\", accuracy_score(y_test, y_pred))\n",
    "print(\"Precision:\", precision_score(y_test, y_pred, average=\"macro\"))\n",
    "print(\"Recall:\", recall_score(y_test, y_pred, average=\"macro\"))\n",
    "print(\"F1:\", f1_score(y_test, y_pred, average=\"macro\"))"
   ]
  },
  {
   "cell_type": "markdown",
   "metadata": {},
   "source": [
    "## reproduce result"
   ]
  },
  {
   "cell_type": "markdown",
   "metadata": {},
   "source": [
    "Extra Trees"
   ]
  },
  {
   "cell_type": "code",
   "execution_count": 68,
   "metadata": {},
   "outputs": [
    {
     "name": "stderr",
     "output_type": "stream",
     "text": [
      "/Users/tiffcheng/opt/anaconda3/envs/sklearn-env/lib/python3.8/site-packages/sklearn/base.py:438: UserWarning: X has feature names, but ExtraTreesClassifier was fitted without feature names\n",
      "  warnings.warn(\n"
     ]
    },
    {
     "data": {
      "image/png": "[encoded data removed]",
      "text/plain": [
       "<Figure size 432x288 with 2 Axes>"
      ]
     },
     "metadata": {
      "needs_background": "light"
     },
     "output_type": "display_data"
    },
    {
     "name": "stdout",
     "output_type": "stream",
     "text": [
      "\n"
     ]
    }
   ],
   "source": [
    "\n",
    "from sklearn.metrics import ConfusionMatrixDisplay, f1_score, accuracy_score, precision_score, recall_score\n",
    "import matplotlib.pyplot as plt\n",
    "clf_et.fit(data_end, label_end)\n",
    "ConfusionMatrixDisplay.from_estimator(clf_et, x_test, y_test, values_format='g', cmap=plt.cm.Blues, display_labels=['Normal','DoS','Probe','U2R','R2L'])\n",
    "plt.title(\"Extra Trees Confusion Matrix\")\n",
    "plt.show() \n",
    "print()"
   ]
  },
  {
   "cell_type": "code",
   "execution_count": 69,
   "metadata": {},
   "outputs": [
    {
     "name": "stderr",
     "output_type": "stream",
     "text": [
      "/Users/tiffcheng/opt/anaconda3/envs/sklearn-env/lib/python3.8/site-packages/sklearn/base.py:438: UserWarning: X has feature names, but ExtraTreesClassifier was fitted without feature names\n",
      "  warnings.warn(\n"
     ]
    },
    {
     "name": "stdout",
     "output_type": "stream",
     "text": [
      "Accuracy: 0.965111571527232\n",
      "Precision: 0.726685652814857\n",
      "Recall: 0.8493203751712789\n",
      "F1: 0.7584706853576412\n"
     ]
    }
   ],
   "source": [
    "y_pred = clf_et.predict(x_test)\n",
    "print(\"Accuracy:\", accuracy_score(y_test, y_pred))\n",
    "print(\"Precision:\", precision_score(y_test, y_pred, average=\"macro\"))\n",
    "print(\"Recall:\", recall_score(y_test, y_pred, average=\"macro\"))\n",
    "print(\"F1:\", f1_score(y_test, y_pred, average=\"macro\"))"
   ]
  },
  {
   "cell_type": "markdown",
   "metadata": {},
   "source": [
    "KNN"
   ]
  },
  {
   "cell_type": "code",
   "execution_count": 62,
   "metadata": {},
   "outputs": [
    {
     "name": "stderr",
     "output_type": "stream",
     "text": [
      "/Users/tiffcheng/opt/anaconda3/envs/sklearn-env/lib/python3.8/site-packages/sklearn/base.py:438: UserWarning: X has feature names, but KNeighborsClassifier was fitted without feature names\n",
      "  warnings.warn(\n"
     ]
    },
    {
     "data": {
      "image/png": "[encoded data removed]",
      "text/plain": [
       "<Figure size 432x288 with 2 Axes>"
      ]
     },
     "metadata": {
      "needs_background": "light"
     },
     "output_type": "display_data"
    },
    {
     "name": "stdout",
     "output_type": "stream",
     "text": [
      "\n"
     ]
    }
   ],
   "source": [
    "clf_knn.fit(data_end, np.ravel(label_end))\n",
    "ConfusionMatrixDisplay.from_estimator(clf_knn, x_test, y_test, values_format='g', cmap=plt.cm.Blues, display_labels=['Normal','DoS','Probe','U2R','R2L'])\n",
    "plt.title(\"KNN Confusion Matrix\")\n",
    "plt.show() \n",
    "print()"
   ]
  },
  {
   "cell_type": "code",
   "execution_count": 63,
   "metadata": {},
   "outputs": [
    {
     "name": "stderr",
     "output_type": "stream",
     "text": [
      "/Users/tiffcheng/opt/anaconda3/envs/sklearn-env/lib/python3.8/site-packages/sklearn/base.py:438: UserWarning: X has feature names, but KNeighborsClassifier was fitted without feature names\n",
      "  warnings.warn(\n"
     ]
    },
    {
     "name": "stdout",
     "output_type": "stream",
     "text": [
      "Accuracy: 0.9871639160772546\n",
      "Precision: 0.7897585409467399\n",
      "Recall: 0.8653318095471093\n",
      "F1: 0.8084970671185367\n"
     ]
    }
   ],
   "source": [
    "y_pred = clf_knn.predict(x_test)\n",
    "\n",
    "print(\"Accuracy:\", accuracy_score(y_test, y_pred))\n",
    "print(\"Precision:\", precision_score(y_test, y_pred, average=\"macro\"))\n",
    "print(\"Recall:\", recall_score(y_test, y_pred, average=\"macro\"))\n",
    "print(\"F1:\", f1_score(y_test, y_pred, average=\"macro\"))"
   ]
  },
  {
   "cell_type": "markdown",
   "metadata": {},
   "source": [
    "Random Forest"
   ]
  },
  {
   "cell_type": "code",
   "execution_count": 64,
   "metadata": {},
   "outputs": [
    {
     "name": "stderr",
     "output_type": "stream",
     "text": [
      "/Users/tiffcheng/opt/anaconda3/envs/sklearn-env/lib/python3.8/site-packages/sklearn/base.py:438: UserWarning: X has feature names, but RandomForestClassifier was fitted without feature names\n",
      "  warnings.warn(\n"
     ]
    },
    {
     "data": {
      "image/png": "[encoded data removed]",
      "text/plain": [
       "<Figure size 432x288 with 2 Axes>"
      ]
     },
     "metadata": {
      "needs_background": "light"
     },
     "output_type": "display_data"
    },
    {
     "name": "stdout",
     "output_type": "stream",
     "text": [
      "\n"
     ]
    }
   ],
   "source": [
    "clf_rf.fit(data_end, label_end)\n",
    "ConfusionMatrixDisplay.from_estimator(clf_rf, x_test, y_test, values_format='g', cmap=plt.cm.Blues, display_labels=['Normal','DoS','Probe','U2R','R2L'])\n",
    "plt.title(\"Random Forest Confusion Matrix\")\n",
    "plt.show() \n",
    "print()"
   ]
  },
  {
   "cell_type": "code",
   "execution_count": 65,
   "metadata": {},
   "outputs": [
    {
     "name": "stderr",
     "output_type": "stream",
     "text": [
      "/Users/tiffcheng/opt/anaconda3/envs/sklearn-env/lib/python3.8/site-packages/sklearn/base.py:438: UserWarning: X has feature names, but RandomForestClassifier was fitted without feature names\n",
      "  warnings.warn(\n"
     ]
    },
    {
     "name": "stdout",
     "output_type": "stream",
     "text": [
      "Accuracy: 0.960015241361244\n",
      "Precision: 0.7071441817216364\n",
      "Recall: 0.7702111466102859\n",
      "F1: 0.7012576429131453\n"
     ]
    }
   ],
   "source": [
    "y_pred = clf_rf.predict(x_test)\n",
    "print(\"Accuracy:\", accuracy_score(y_test, y_pred))\n",
    "print(\"Precision:\", precision_score(y_test, y_pred, average=\"macro\"))\n",
    "print(\"Recall:\", recall_score(y_test, y_pred, average=\"macro\"))\n",
    "print(\"F1:\", f1_score(y_test, y_pred, average=\"macro\"))"
   ]
  },
  {
   "cell_type": "markdown",
   "metadata": {},
   "source": [
    "SVM"
   ]
  },
  {
   "cell_type": "code",
   "execution_count": 74,
   "metadata": {},
   "outputs": [
    {
     "name": "stderr",
     "output_type": "stream",
     "text": [
      "/Users/tiffcheng/opt/anaconda3/envs/sklearn-env/lib/python3.8/site-packages/sklearn/base.py:438: UserWarning: X has feature names, but SVC was fitted without feature names\n",
      "  warnings.warn(\n"
     ]
    },
    {
     "data": {
      "image/png": "[encoded data removed]",
      "text/plain": [
       "<Figure size 432x288 with 2 Axes>"
      ]
     },
     "metadata": {
      "needs_background": "light"
     },
     "output_type": "display_data"
    },
    {
     "name": "stdout",
     "output_type": "stream",
     "text": [
      "\n"
     ]
    }
   ],
   "source": [
    "clf_svm.fit(data_end, label_end)\n",
    "ConfusionMatrixDisplay.from_estimator(clf_svm, x_test, y_test, values_format='g', cmap=plt.cm.Blues, display_labels=['Normal','DoS','Probe','U2R','R2L'])\n",
    "plt.title(\"SVM Confusion Matrix\")\n",
    "plt.show() \n",
    "print()"
   ]
  },
  {
   "cell_type": "code",
   "execution_count": 75,
   "metadata": {},
   "outputs": [
    {
     "name": "stderr",
     "output_type": "stream",
     "text": [
      "/Users/tiffcheng/opt/anaconda3/envs/sklearn-env/lib/python3.8/site-packages/sklearn/base.py:438: UserWarning: X has feature names, but SVC was fitted without feature names\n",
      "  warnings.warn(\n"
     ]
    },
    {
     "name": "stdout",
     "output_type": "stream",
     "text": [
      "Accuracy: 0.9498781484921373\n",
      "Precision: 0.634173167705223\n",
      "Recall: 0.8847850474926051\n",
      "F1: 0.6662666545033488\n"
     ]
    }
   ],
   "source": [
    "y_pred = clf_svm.predict(x_test)\n",
    "print(\"Accuracy:\", accuracy_score(y_test, y_pred))\n",
    "print(\"Precision:\", precision_score(y_test, y_pred, average=\"macro\"))\n",
    "print(\"Recall:\", recall_score(y_test, y_pred, average=\"macro\"))\n",
    "print(\"F1:\", f1_score(y_test, y_pred, average=\"macro\"))"
   ]
  }
 ],
 "metadata": {
  "interpreter": {
   "hash": "5847c2db7b0ec6e115c0f0ef35e2c6e57af1de479e807feba546fe45972843bd"
  },
  "kernelspec": {
   "display_name": "Python 3 (ipykernel)",
   "language": "python",
   "name": "python3"
  },
  "language_info": {
   "codemirror_mode": {
    "name": "ipython",
    "version": 3
   },
   "file_extension": ".py",
   "mimetype": "text/x-python",
   "name": "python",
   "nbconvert_exporter": "python",
   "pygments_lexer": "ipython3",
   "version": "3.9.7"
  }
 },
 "nbformat": 4,
 "nbformat_minor": 2
}
